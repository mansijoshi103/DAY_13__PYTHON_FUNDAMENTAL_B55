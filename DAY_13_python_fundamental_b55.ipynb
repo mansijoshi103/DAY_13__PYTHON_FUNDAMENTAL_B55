{
 "cells": [
  {
   "cell_type": "code",
   "execution_count": null,
   "id": "81b62719",
   "metadata": {},
   "outputs": [],
   "source": []
  },
  {
   "cell_type": "code",
   "execution_count": null,
   "id": "91d081d1",
   "metadata": {},
   "outputs": [],
   "source": [
    "Introduction to the python classes:"
   ]
  },
  {
   "cell_type": "code",
   "execution_count": null,
   "id": "1749a755",
   "metadata": {},
   "outputs": [],
   "source": [
    "class\n",
    "\n",
    "methods\n",
    "attribute\n",
    "self\n",
    "object\n"
   ]
  },
  {
   "cell_type": "code",
   "execution_count": null,
   "id": "ddcb40a7",
   "metadata": {},
   "outputs": [],
   "source": []
  },
  {
   "cell_type": "code",
   "execution_count": null,
   "id": "ba98a734",
   "metadata": {},
   "outputs": [],
   "source": [
    "class: class is high level blue print of the program\n",
    "    \n",
    "method:- a function written inside the class are called as method \n",
    "    \n",
    "attribute: a variable written inside the class ara called as attribute.\n",
    "    \n",
    "self : It is a temp place holder for  an object.\n",
    "    \n",
    "object"
   ]
  },
  {
   "cell_type": "code",
   "execution_count": null,
   "id": "35e2df93",
   "metadata": {},
   "outputs": [],
   "source": []
  },
  {
   "cell_type": "code",
   "execution_count": null,
   "id": "22c3e4c8",
   "metadata": {},
   "outputs": [],
   "source": []
  },
  {
   "cell_type": "code",
   "execution_count": null,
   "id": "bcba1c0d",
   "metadata": {},
   "outputs": [],
   "source": []
  },
  {
   "cell_type": "code",
   "execution_count": null,
   "id": "c0ed38d2",
   "metadata": {},
   "outputs": [],
   "source": []
  },
  {
   "cell_type": "code",
   "execution_count": null,
   "id": "a1e9cd91",
   "metadata": {},
   "outputs": [],
   "source": []
  },
  {
   "cell_type": "code",
   "execution_count": null,
   "id": "74992d18",
   "metadata": {},
   "outputs": [],
   "source": []
  },
  {
   "cell_type": "code",
   "execution_count": null,
   "id": "e375da8d",
   "metadata": {},
   "outputs": [],
   "source": []
  },
  {
   "cell_type": "code",
   "execution_count": null,
   "id": "5f1477cd",
   "metadata": {},
   "outputs": [],
   "source": []
  },
  {
   "cell_type": "code",
   "execution_count": null,
   "id": "3465ebd3",
   "metadata": {},
   "outputs": [],
   "source": []
  },
  {
   "cell_type": "code",
   "execution_count": null,
   "id": "9a8aa731",
   "metadata": {},
   "outputs": [],
   "source": []
  },
  {
   "cell_type": "code",
   "execution_count": null,
   "id": "43cb2343",
   "metadata": {},
   "outputs": [],
   "source": []
  }
 ],
 "metadata": {
  "kernelspec": {
   "display_name": "Python 3 (ipykernel)",
   "language": "python",
   "name": "python3"
  },
  "language_info": {
   "codemirror_mode": {
    "name": "ipython",
    "version": 3
   },
   "file_extension": ".py",
   "mimetype": "text/x-python",
   "name": "python",
   "nbconvert_exporter": "python",
   "pygments_lexer": "ipython3",
   "version": "3.9.7"
  }
 },
 "nbformat": 4,
 "nbformat_minor": 5
}
